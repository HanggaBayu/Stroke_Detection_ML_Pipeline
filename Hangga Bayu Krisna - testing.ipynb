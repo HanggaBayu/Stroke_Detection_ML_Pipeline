{
 "cells": [
  {
   "cell_type": "code",
   "execution_count": 1,
   "id": "58472338",
   "metadata": {},
   "outputs": [],
   "source": [
    "import tensorflow as tf\n",
    "import pandas as pd\n",
    "import requests\n",
    "import json\n",
    "import base64\n",
    "import random\n",
    "from pprint import PrettyPrinter"
   ]
  },
  {
   "cell_type": "code",
   "execution_count": 2,
   "id": "2a09adfd",
   "metadata": {},
   "outputs": [
    {
     "name": "stdout",
     "output_type": "stream",
     "text": [
      "{'model_version_status': [{'state': 'AVAILABLE',\n",
      "                           'status': {'error_code': 'OK', 'error_message': ''},\n",
      "                           'version': '1708460880'}]}\n"
     ]
    }
   ],
   "source": [
    "pp = PrettyPrinter()\n",
    "pp.pprint(requests.get(\"http://localhost:8080/v1/models/stroke-model\").json())"
   ]
  },
  {
   "cell_type": "code",
   "execution_count": 3,
   "id": "8780ae15",
   "metadata": {},
   "outputs": [
    {
     "name": "stdout",
     "output_type": "stream",
     "text": [
      "{'model_version_status': [{'state': 'AVAILABLE',\n",
      "                           'status': {'error_code': 'OK', 'error_message': ''},\n",
      "                           'version': '1708460880'}]}\n"
     ]
    }
   ],
   "source": [
    "pp = PrettyPrinter()\n",
    "pp.pprint(requests.get(\"https://strokeprediction-production.up.railway.app/v1/models/stroke-model\").json())"
   ]
  },
  {
   "cell_type": "code",
   "execution_count": 4,
   "id": "06ae63b9",
   "metadata": {},
   "outputs": [],
   "source": [
    "df = pd.read_csv('data/train_fix.csv')"
   ]
  },
  {
   "cell_type": "code",
   "execution_count": 5,
   "id": "5e3f8a22",
   "metadata": {},
   "outputs": [
    {
     "data": {
      "text/plain": [
       "{'gender': 'Female',\n",
       " 'age': 77,\n",
       " 'hypertension': 1,\n",
       " 'heart_disease': 0,\n",
       " 'ever_married': 'Yes',\n",
       " 'work_type': 'Self-employed',\n",
       " 'Residence_type': 'Urban',\n",
       " 'avg_glucose_level': 71.7,\n",
       " 'bmi': 32.8,\n",
       " 'smoking_status': 'never smoked'}"
      ]
     },
     "execution_count": 5,
     "metadata": {},
     "output_type": "execute_result"
    }
   ],
   "source": [
    "inputs = df.iloc[11, :10].to_dict()\n",
    "inputs"
   ]
  },
  {
   "cell_type": "code",
   "execution_count": 6,
   "id": "c0195b11",
   "metadata": {},
   "outputs": [
    {
     "data": {
      "text/plain": [
       "gender                       Male\n",
       "age                            23\n",
       "hypertension                    0\n",
       "heart_disease                   0\n",
       "ever_married                   No\n",
       "work_type                 Private\n",
       "Residence_type              Rural\n",
       "avg_glucose_level           93.74\n",
       "bmi                          31.2\n",
       "smoking_status       never smoked\n",
       "stroke                          0\n",
       "Name: 53, dtype: object"
      ]
     },
     "execution_count": 6,
     "metadata": {},
     "output_type": "execute_result"
    }
   ],
   "source": [
    "df.iloc[53, :11]"
   ]
  },
  {
   "cell_type": "markdown",
   "id": "e8bf712b",
   "metadata": {},
   "source": [
    "# Predict"
   ]
  },
  {
   "cell_type": "code",
   "execution_count": 7,
   "id": "f5ba53af",
   "metadata": {},
   "outputs": [
    {
     "name": "stdout",
     "output_type": "stream",
     "text": [
      "No Stroke\n"
     ]
    }
   ],
   "source": [
    "def prepare_json(inputs: dict):\n",
    "    feature_spec = dict()\n",
    "\n",
    "    for keys, values in inputs.items():\n",
    "        if isinstance(values, float):\n",
    "            feature_spec[keys] = tf.train.Feature(float_list=tf.train.FloatList(value=[values]))\n",
    "        elif isinstance(values, int):\n",
    "            feature_spec[keys] = tf.train.Feature(int64_list=tf.train.Int64List(value=[values]))\n",
    "        elif isinstance(values, str):\n",
    "            feature_spec[keys] = tf.train.Feature(bytes_list=tf.train.BytesList(value=[values.encode()]))\n",
    "\n",
    "    example = tf.train.Example(\n",
    "        features=tf.train.Features(feature=feature_spec)\n",
    "    ).SerializeToString()\n",
    "\n",
    "    result = [\n",
    "        {\n",
    "            \"examples\": {\n",
    "                \"b64\": base64.b64encode(example).decode()\n",
    "            }\n",
    "        }\n",
    "    ]\n",
    "\n",
    "    return json.dumps({\n",
    "        \"signature_name\": \"serving_default\",\n",
    "        \"instances\": result,\n",
    "    })\n",
    "\n",
    "json_data = prepare_json(inputs)\n",
    "\n",
    "endpoint = \"https://strokeprediction-production.up.railway.app/v1/models/stroke-model:predict\"\n",
    "response = requests.post(endpoint, data=json_data)\n",
    "\n",
    "prediction = response.json().get(\"predictions\")\n",
    "if prediction:\n",
    "    prediction_value = prediction[0][0]\n",
    "    result = \"No Stroke\" if prediction_value < 0.5 else \"Stroke\"\n",
    "else:\n",
    "    result = \"Error: No predictions found in response.\"\n",
    "\n",
    "print(result)"
   ]
  },
  {
   "cell_type": "code",
   "execution_count": 8,
   "id": "19d6bf60",
   "metadata": {},
   "outputs": [
    {
     "name": "stdout",
     "output_type": "stream",
     "text": [
      "Note: you may need to restart the kernel to use updated packages.\n"
     ]
    }
   ],
   "source": [
    "pip freeze > requirements.txt"
   ]
  },
  {
   "cell_type": "code",
   "execution_count": null,
   "id": "82631bb7",
   "metadata": {},
   "outputs": [],
   "source": []
  }
 ],
 "metadata": {
  "kernelspec": {
   "display_name": "Python 3 (ipykernel)",
   "language": "python",
   "name": "python3"
  },
  "language_info": {
   "codemirror_mode": {
    "name": "ipython",
    "version": 3
   },
   "file_extension": ".py",
   "mimetype": "text/x-python",
   "name": "python",
   "nbconvert_exporter": "python",
   "pygments_lexer": "ipython3",
   "version": "3.8.0"
  }
 },
 "nbformat": 4,
 "nbformat_minor": 5
}
